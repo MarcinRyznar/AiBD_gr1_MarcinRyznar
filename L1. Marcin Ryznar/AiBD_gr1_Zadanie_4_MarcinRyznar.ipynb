{
 "cells": [
  {
   "cell_type": "code",
   "execution_count": 9,
   "metadata": {},
   "outputs": [
    {
     "data": {
      "text/html": [
       "<div>\n",
       "<style scoped>\n",
       "    .dataframe tbody tr th:only-of-type {\n",
       "        vertical-align: middle;\n",
       "    }\n",
       "\n",
       "    .dataframe tbody tr th {\n",
       "        vertical-align: top;\n",
       "    }\n",
       "\n",
       "    .dataframe thead th {\n",
       "        text-align: right;\n",
       "    }\n",
       "</style>\n",
       "<table border=\"1\" class=\"dataframe\">\n",
       "  <thead>\n",
       "    <tr style=\"text-align: right;\">\n",
       "      <th></th>\n",
       "      <th>name</th>\n",
       "      <th>surname</th>\n",
       "      <th>age</th>\n",
       "      <th>sex</th>\n",
       "    </tr>\n",
       "  </thead>\n",
       "  <tbody>\n",
       "    <tr>\n",
       "      <th>0</th>\n",
       "      <td>Martinez</td>\n",
       "      <td>Iglesias</td>\n",
       "      <td>21</td>\n",
       "      <td>male</td>\n",
       "    </tr>\n",
       "    <tr>\n",
       "      <th>1</th>\n",
       "      <td>Emily</td>\n",
       "      <td>Clarkson</td>\n",
       "      <td>30</td>\n",
       "      <td>female</td>\n",
       "    </tr>\n",
       "    <tr>\n",
       "      <th>2</th>\n",
       "      <td>Michael</td>\n",
       "      <td>Leclark</td>\n",
       "      <td>17</td>\n",
       "      <td>male</td>\n",
       "    </tr>\n",
       "  </tbody>\n",
       "</table>\n",
       "</div>"
      ],
      "text/plain": [
       "       name   surname  age     sex\n",
       "0  Martinez  Iglesias   21    male\n",
       "1     Emily  Clarkson   30  female\n",
       "2   Michael   Leclark   17    male"
      ]
     },
     "execution_count": 9,
     "metadata": {},
     "output_type": "execute_result"
    }
   ],
   "source": [
    "import pandas as pd\n",
    "list =   [['Martinez', 'Iglesias', 21, 'male'], \n",
    "        ['Emily', 'Clarkson', 30, 'female'],\n",
    "        ['Michael', 'Leclark', 17, 'male'], \n",
    "        ['Rebecca', 'McBrain', 25, 'female'], \n",
    "        ['Paul', 'Walker', 28, 'male']]\n",
    "data_col = pd.DataFrame(list, columns = ['name', 'surname', 'age', 'sex'])\n",
    "#data_col\n",
    "#data_col.info()\n",
    "#data_col.describe()\n",
    "data_col.head(3)"
   ]
  }
 ],
 "metadata": {
  "kernelspec": {
   "display_name": "Python 3.9.13 64-bit (microsoft store)",
   "language": "python",
   "name": "python3"
  },
  "language_info": {
   "codemirror_mode": {
    "name": "ipython",
    "version": 3
   },
   "file_extension": ".py",
   "mimetype": "text/x-python",
   "name": "python",
   "nbconvert_exporter": "python",
   "pygments_lexer": "ipython3",
   "version": "3.9.13"
  },
  "orig_nbformat": 4,
  "vscode": {
   "interpreter": {
    "hash": "5079858f85a97ca89a14cdbc0a5d1d1ba266589fc0111de58aa11c2761e0ee83"
   }
  }
 },
 "nbformat": 4,
 "nbformat_minor": 2
}
